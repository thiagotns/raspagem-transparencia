{
 "cells": [
  {
   "cell_type": "code",
   "execution_count": 130,
   "metadata": {
    "collapsed": true
   },
   "outputs": [],
   "source": [
    "import json as json\n",
    "import urllib3\n",
    "from time import time\n",
    "from time import sleep\n",
    "from random import randint"
   ]
  },
  {
   "cell_type": "code",
   "execution_count": 144,
   "metadata": {},
   "outputs": [],
   "source": [
    "#End-point para recuperar a lista de municípios\n",
    "url_municipios = \"https://folha.governotransparente.com.br/00/foff/index/get-municipios\"\n",
    "url_entidades = \"https://folha.governotransparente.com.br/00/foff/index/get-entidades\"\n",
    "#Maranhão id:21\n",
    "id_estado = \"21\""
   ]
  },
  {
   "cell_type": "code",
   "execution_count": 162,
   "metadata": {},
   "outputs": [],
   "source": [
    "#Disabilita o warning de certificado e cria o cliente \n",
    "urllib3.disable_warnings(urllib3.exceptions.InsecureRequestWarning)\n",
    "http = urllib3.PoolManager()"
   ]
  },
  {
   "cell_type": "code",
   "execution_count": 163,
   "metadata": {},
   "outputs": [],
   "source": [
    "#Recupera a lista de municípios do Maranhão\n",
    "resp_municipios = http.request('POST', url_municipios, fields={\"id_estado\": id_estado})"
   ]
  },
  {
   "cell_type": "code",
   "execution_count": 147,
   "metadata": {},
   "outputs": [],
   "source": [
    "municipios = json.loads(resp_municipios.data)"
   ]
  },
  {
   "cell_type": "code",
   "execution_count": 154,
   "metadata": {},
   "outputs": [
    {
     "data": {
      "text/plain": [
       "\"Alto Alegre do Maranhão [{'valor': '01', 'nome': 'Prefeitura Municipal de Alto Alegre do Maranhão'}]\""
      ]
     },
     "execution_count": 154,
     "metadata": {},
     "output_type": "execute_result"
    }
   ],
   "source": [
    "municipios[1]['nome'] + \" \" + str(municipios[1]['entidades'])"
   ]
  },
  {
   "cell_type": "code",
   "execution_count": 149,
   "metadata": {},
   "outputs": [
    {
     "name": "stdout",
     "output_type": "stream",
     "text": [
      "Requisição: {'valor': 2100303, 'nome': 'Aldeias Altas'} , espera: 4.004125356674194(s)\n"
     ]
    },
    {
     "name": "stderr",
     "output_type": "stream",
     "text": [
      "/home/thiago/anaconda3/lib/python3.6/site-packages/urllib3/connectionpool.py:858: InsecureRequestWarning: Unverified HTTPS request is being made. Adding certificate verification is strongly advised. See: https://urllib3.readthedocs.io/en/latest/advanced-usage.html#ssl-warnings\n",
      "  InsecureRequestWarning)\n"
     ]
    },
    {
     "name": "stdout",
     "output_type": "stream",
     "text": [
      "Requisição: {'valor': 2100436, 'nome': 'Alto Alegre do Maranhão'} , espera: 2.0020029544830322(s)\n"
     ]
    },
    {
     "name": "stderr",
     "output_type": "stream",
     "text": [
      "/home/thiago/anaconda3/lib/python3.6/site-packages/urllib3/connectionpool.py:858: InsecureRequestWarning: Unverified HTTPS request is being made. Adding certificate verification is strongly advised. See: https://urllib3.readthedocs.io/en/latest/advanced-usage.html#ssl-warnings\n",
      "  InsecureRequestWarning)\n"
     ]
    }
   ],
   "source": [
    "#Para cada município, recupera a lista de entidades (dando um intervalo de tempo aleatório)\n",
    "for mun in municipios[:2]:\n",
    "\n",
    "    #Controles de quantidade de requisição\n",
    "    inicio = time()\n",
    "    sleep(randint(10,30))\n",
    "    espera = time() - inicio\n",
    "    \n",
    "    print('Requisição: ' + str(mun) + ' , espera: ' + str(espera) + \"(s)\" )\n",
    "    \n",
    "    #Recupera as entidades do município\n",
    "    resp_entidades = http.request('POST', url_entidades, \n",
    "                                  fields={\"id_estado\": id_estado, \"id_municipio\": str(mun['valor'])})\n",
    "    \n",
    "    entidades = json.loads(resp_entidades.data)\n",
    "    \n",
    "    mun['entidades'] = entidades"
   ]
  },
  {
   "cell_type": "code",
   "execution_count": 161,
   "metadata": {
    "collapsed": true
   },
   "outputs": [],
   "source": [
    "#Escreve o resultado em um arquivo de texto para evitar buscas desnecessárias ao site\n",
    "with open(\"municipios.json\", \"w\") as f: \n",
    "    json.dump(municipios, f)"
   ]
  },
  {
   "cell_type": "code",
   "execution_count": 160,
   "metadata": {},
   "outputs": [
    {
     "name": "stdout",
     "output_type": "stream",
     "text": [
      "Fim da extração de municípios e entidades. Dados escritos no arquivo \"municipios.json\".\n"
     ]
    }
   ],
   "source": [
    "print(\"Fim da extração de municípios e entidades. Dados escritos no arquivo \\\"municipios.json\\\".\")"
   ]
  }
 ],
 "metadata": {
  "kernelspec": {
   "display_name": "Python 3",
   "language": "python",
   "name": "python3"
  },
  "language_info": {
   "codemirror_mode": {
    "name": "ipython",
    "version": 3
   },
   "file_extension": ".py",
   "mimetype": "text/x-python",
   "name": "python",
   "nbconvert_exporter": "python",
   "pygments_lexer": "ipython3",
   "version": "3.6.3"
  }
 },
 "nbformat": 4,
 "nbformat_minor": 2
}
